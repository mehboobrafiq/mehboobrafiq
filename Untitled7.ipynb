{
 "cells": [
  {
   "cell_type": "code",
   "execution_count": 57,
   "id": "01d62f49",
   "metadata": {},
   "outputs": [
    {
     "name": "stdout",
     "output_type": "stream",
     "text": [
      "Twinkle, twinkle, little star,\n",
      "How I wonder what you are!\n",
      "Up above the world so high,\n",
      "Like a diamond in the sky.\n",
      "\n",
      "Twinkle, twinkle, little star,\n",
      "How I wonder what you are\n"
     ]
    }
   ],
   "source": [
    "#Question1:Write poem.\n",
    "poem='''Twinkle, twinkle, little star,\n",
    "How I wonder what you are!\n",
    "Up above the world so high,\n",
    "Like a diamond in the sky.\n",
    "\n",
    "Twinkle, twinkle, little star,\n",
    "How I wonder what you are'''\n",
    "\n",
    "print(poem)"
   ]
  },
  {
   "cell_type": "code",
   "execution_count": 50,
   "id": "69730fc3",
   "metadata": {},
   "outputs": [
    {
     "name": "stdout",
     "output_type": "stream",
     "text": [
      "3.8.8 (default, Apr 13 2021, 15:08:03) [MSC v.1916 64 bit (AMD64)]\n"
     ]
    }
   ],
   "source": [
    "#Question2:how to see python version.\n",
    "import sys\n",
    "print(sys.version)"
   ]
  },
  {
   "cell_type": "code",
   "execution_count": 25,
   "id": "cb1de0dd",
   "metadata": {},
   "outputs": [
    {
     "name": "stdout",
     "output_type": "stream",
     "text": [
      "Time: 10:33:10\n",
      "Date: 22/10/2021\n"
     ]
    }
   ],
   "source": [
    "#Question3:display the current date and time.\n",
    "import datetime\n",
    "now=datetime.datetime.now()\n",
    "\n",
    "print(now.strftime('Time: %I:%M:%S'))\n",
    "print(now.strftime('Date: %d/%m/%Y'))"
   ]
  },
  {
   "cell_type": "code",
   "execution_count": 29,
   "id": "229abba5",
   "metadata": {},
   "outputs": [
    {
     "name": "stdout",
     "output_type": "stream",
     "text": [
      "radius value: 9\n",
      "Area of a circle of radius=9.0 is\n",
      "254.46900494077323\n"
     ]
    }
   ],
   "source": [
    "#Question4:find area by radius\n",
    "from math import pi\n",
    "radius=float(input(\"radius value: \"))\n",
    "Area=pi*(radius**2)\n",
    "\n",
    "print(\"Area of a circle of radius=\"+ str(radius)+\" is\")\n",
    "print(str(Area))"
   ]
  },
  {
   "cell_type": "code",
   "execution_count": 30,
   "id": "e1968e02",
   "metadata": {},
   "outputs": [
    {
     "name": "stdout",
     "output_type": "stream",
     "text": [
      "first_name: mehboob\n",
      "last_name: rafiq\n",
      "rafiq mehboob\n"
     ]
    }
   ],
   "source": [
    "# Question5:accepts the user's first and last name and print them in\n",
    "# reverse order with a space between them.\n",
    "first_name=input(\"first_name: \")\n",
    "last_name=input(\"last_name: \")\n",
    "\n",
    "print(last_name+\" \"+first_name)"
   ]
  },
  {
   "cell_type": "code",
   "execution_count": 31,
   "id": "0693e4f1",
   "metadata": {},
   "outputs": [
    {
     "name": "stdout",
     "output_type": "stream",
     "text": [
      "first_input: 3.5\n",
      "second_input: 5.9\n",
      "total of both: 9.4\n"
     ]
    }
   ],
   "source": [
    "# Question6:takes two inputs from user and print them addition\n",
    "\n",
    "first_input=float(input(\"first_input: \"))\n",
    "second_input=float(input(\"second_input: \"))\n",
    "add=first_input+second_input\n",
    "\n",
    "print(\"total of both: \"+str(add))"
   ]
  },
  {
   "cell_type": "code",
   "execution_count": 45,
   "id": "3e438023",
   "metadata": {},
   "outputs": [
    {
     "name": "stdout",
     "output_type": "stream",
     "text": [
      "math mark: 90\n",
      "chemistry mark: 89\n",
      "islamiyat mark: 78\n",
      "urdu mark: 98\n",
      "english mark: 97\n",
      "total_get_marks: 452\n",
      "total_percentage: 90.4\n",
      "A Grade\n"
     ]
    }
   ],
   "source": [
    "# Question7:takes 5 inputs from user for different subject’s marks, total it\n",
    "and generate mark sheet using grades\n",
    "math_mark=int(input(\"math mark: \"))\n",
    "chemistry_mark=int(input(\"chemistry mark: \"))\n",
    "islamiyat_mark=int(input(\"islamiyat mark: \"))\n",
    "urdu_mark=int(input(\"urdu mark: \"))\n",
    "english_mark=int(input(\"english mark: \"))\n",
    "\n",
    "All_total_marks=500\n",
    "\n",
    "total_get_marks=math_mark+chemistry_mark+islamiyat_mark+urdu_mark+english_mark\n",
    "\n",
    "print(\"total_get_marks: \"+str(total_get_marks))\n",
    "total_percentage=total_get_marks/All_total_marks*100\n",
    "print(\"total_percentage: \"+str(total_percentage))\n",
    "if total_percentage>=90 and total_percentage<=100 :\n",
    "    print(\"A Grade\")\n",
    "elif total_percentage>=80 and total_percentage<90:\n",
    "    print(\"B Grade\")\n",
    "elif total_percentage>=70 and total_percentage<80:\n",
    "    print(\"C Grade\")\n",
    "elif total_percentage>=60 and total_percentage<70:\n",
    "    print(\"D Grade\")\n",
    "elif total_percentage>=50 and total_percentage<60:\n",
    "    print(\"E Grade\")\n",
    "elif total_percentage>=40 and total_percentage<50:\n",
    "    print(\"D Grade\")\n",
    "elif total_percentage>=0 and total_percentage<40:\n",
    "    print(\"D Grade\")\n",
    "else:\n",
    "    print(\"invalid number\")"
   ]
  },
  {
   "cell_type": "code",
   "execution_count": 1,
   "id": "1876a552",
   "metadata": {},
   "outputs": [
    {
     "name": "stdout",
     "output_type": "stream",
     "text": [
      "Number: 9\n",
      "Number 9.0 is odd\n"
     ]
    }
   ],
   "source": [
    "# Question8:take input from user and identify that the given number is even or odd\n",
    "\n",
    "num=float(input(\"Number: \"))\n",
    "\n",
    "if (num%2)==0:\n",
    "    print(\"Number \"+str(num)+\" is even\")\n",
    "else:\n",
    "    print(\"Number \"+str(num)+\" is odd\")\n"
   ]
  },
  {
   "cell_type": "code",
   "execution_count": 2,
   "id": "fd46505a",
   "metadata": {},
   "outputs": [
    {
     "data": {
      "text/plain": [
       "8"
      ]
     },
     "execution_count": 2,
     "metadata": {},
     "output_type": "execute_result"
    }
   ],
   "source": [
    "# Question9:print the length of the list\n",
    "list1=[1,2,3,4,5,6,7,8]\n",
    "len(list1)"
   ]
  },
  {
   "cell_type": "code",
   "execution_count": 3,
   "id": "af277cfd",
   "metadata": {},
   "outputs": [
    {
     "name": "stdout",
     "output_type": "stream",
     "text": [
      "55\n"
     ]
    }
   ],
   "source": [
    "# Question10:sum all the numeric items in a list\n",
    "\n",
    "list2=[1,2,3,4,5,6,7,8,9,10]\n",
    "list_sum=sum(list2)\n",
    "\n",
    "print(list_sum)"
   ]
  },
  {
   "cell_type": "code",
   "execution_count": 15,
   "id": "21c1f1c8",
   "metadata": {},
   "outputs": [
    {
     "data": {
      "text/plain": [
       "15"
      ]
     },
     "execution_count": 15,
     "metadata": {},
     "output_type": "execute_result"
    }
   ],
   "source": [
    "# Question11:get the largest number from a numeric list.\n",
    "list2=[1,2,3,4,5,6,7,8,9,10,11,12,13,14,15]\n",
    "max(list2)"
   ]
  },
  {
   "cell_type": "code",
   "execution_count": 4,
   "id": "761a669b",
   "metadata": {},
   "outputs": [
    {
     "name": "stdout",
     "output_type": "stream",
     "text": [
      "1\n",
      "1\n",
      "2\n",
      "3\n"
     ]
    }
   ],
   "source": [
    "# Question12:that prints out all the elements of the list that are less than 5.\n",
    "\n",
    "list_a= [1, 1, 2, 3, 5, 8, 13, 21, 34, 55, 89]\n",
    "for i in list_a:\n",
    " if i<5:\n",
    "    print(i)"
   ]
  }
 ],
 "metadata": {
  "kernelspec": {
   "display_name": "Python 3",
   "language": "python",
   "name": "python3"
  },
  "language_info": {
   "codemirror_mode": {
    "name": "ipython",
    "version": 3
   },
   "file_extension": ".py",
   "mimetype": "text/x-python",
   "name": "python",
   "nbconvert_exporter": "python",
   "pygments_lexer": "ipython3",
   "version": "3.8.8"
  }
 },
 "nbformat": 4,
 "nbformat_minor": 5
}
